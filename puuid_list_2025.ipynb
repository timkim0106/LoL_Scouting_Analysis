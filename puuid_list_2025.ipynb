{
 "cells": [
  {
   "cell_type": "code",
   "execution_count": null,
   "id": "b214577b",
   "metadata": {},
   "outputs": [],
   "source": [
    "##100 Thieves\n",
    "Sniper = ['TKpZ89roEl0ODgqGecyg7kxfQXiuNdfNWdFgnMIu32eBbn6YkLwUTGT3iqinSaPC-M59md6U7lF_-w','rpWKeEO3FkgwTQ4cu3vjlY8s94JIHzg-NSMZROYRgIxQWF5iUq_L5oYEjgsf4TOqPNInTNHE4VBb4Q']\n",
    "River = ['onK1dgLKXwYOfOopcbUjVU3qiDSueqfEjzRuEGIZb1Ai8JKc8LaHIGsbw4de2HjQB3nyAo8A5QVG7w']\n",
    "Quid = ['1BKcAzqu860fisahb0KzoPdwtchjeYFENQy1Uh-LhU_HdsYPsBDxikgH8WoXaY2ZjXW6kd7amnkivw', 'QV_zp6huhc2enH3L-_uaWUtf-FbeTHNaGsMYMPa0SxRsmbZXctrKesdJHesiWzVhyVMGiXGgnAjajQ']\n",
    "fbi = ['BjTRjZOPCzYv5munDFTCQcJg2csUPdXn4uk3WmEl_dXzUUjNi42xpDjKs4ygZMf5mGJTuXkO3vNAoQ']\n",
    "Eyla = ['CSOeUDiW6aVXegFiBrfE5p5Vx4siLNuoK1lfF3l_pJhnZFUFvTBsYfkTV66Ur811NWWqDz8iOgoujA']\n",
    "HundredThieves = Sniper + River + Quid + fbi + Eyla\n",
    "##Cloud9\n",
    "Thanatos = ['umeUBnHkvB2xJl0sRlxuzIRCdEYZQi1PVC70lBXy47lq5-pNl-s2xJtsggMDuTMRr897u7vyL9pBzg']\n",
    "Blaber = ['nK37otyzY1TJa9J9_jANLpUYLJm5E37Bsmhtftf8fq7Ij5Mp_0TOC2K3G-A8mqJzu_L5-7jUpn9k4A', 'RXVUKCZ0qpKKi2WAgRKrQCCnZdwz-k0NwxjZ9B4ZMVAQCe8PEL5S6C8av7GMGLYkH-f8OwbegmCXbg']\n",
    "Loki = ['AuFL7DPbHNShaVGWbSTR8AbCMIBvS4jO57ubeBltdWtcjNrVF6Ho49m_WdH-XVsPAqfqaxY2jM94fQ']\n",
    "Loki2 = ['2imjbaG2D4c20ok9Ejn-NQTyKxb3XeytpTEYQh9AGbi982UC6vRNR_MHSsw7tdKifBr1xPvrY4iTtQ']\n",
    "Zven = ['xTaWU6JhJIoikuGBaV6r0o2j9iL8BpfY93lKqry2YJQKRBeaWmfDSNMGP0SEc8L_i82uCajQYDKi3A']\n",
    "Vulcan = ['_hmLenP47T8AAm3CUOMmvdXiEeLEJ-lZcJUbUaJxUBlILzTifwzhOpN1oNbDZr9lDL3tpONtuY3SBg', 'eO2ootWRKQGASoKfCTBrCUBZ1ChEHTUjOpFm_5ODDjrYbbedTb3gDsn0reONkNoSqFJO0VbC8HxIJA']\n",
    "Cloud9 = Thanatos + Blaber + Loki + Zven + Vulcan\n",
    "##Dignitas\n",
    "Srtty = ['ihDs-jJZoGC_o_717sGbJAD-LVM3UTy4MRafkX1-PNZY24NMyZbBOZdiD8L1eV3n9Dn0TQo0LZ8HQg', 'yGwFWpDH0BbvrbCrmU9gIt6ZJwU45Uzn2DryZ6bhlphvwz7vdok7Sw_dNINAI_w3KPpMKztXiZuUVA', 'S2yHAqjUONeKr7MA0jANhkJsAXpVZERkyKe9il1Cn_rz6GXFHf2U8lK8N5P-AgaJXvdlA1cHREHxhA' , 'Y43HOmhkcKxmMj2EbHz9gWSzg43qTK7C_IGf-I08eqnLS7QcCKXQroYuM19cxtMECO3-eFsIg8sZzw']\n",
    "Sheiden = ['jpTdHfxvcbukHCtsCvSaANzpT-YBZCjrsdYy-YLQ6siBJNuaJAJgYc59ZY6m5cSPWwzOl2S3QhCNfw', 'GYR6i0zIGyz3jMSh7ljP3AbRsKIG1RIpA-Eogw1LFR1AI7gCJZb6LoSjwpXeksBpw_rWohYeP_KUnw', '6HX9JSS9t1k9kFSVTHTLaRR9gBXOILB4ZnRWTmfgjcyWpXCGgQzcvpsUhPF514NQRuIkBwYQhXiYlQ', '65DzAtC6CR_9GwZ_mwINdDL4c9VfgLHfWDlL_lyPTXz6DlFE0I-7gGp1ksr8VyGPNvytYvvuWhwSCw']\n",
    "Keine = ['TKu7fEb_EWZ6pWY_GE0qn26M4w9o4RRldoYZlMp99XHY58q2oJyg5KkfVsOMCn76hLKe8QdGo0ZxMg', 'LzIXhAEIHx9OvFdG0aRvPswvc8ZE6sbTIfkXLku1sMEu0rDZfBqSmvqZu6Ry3AKIMD_o9M8NJUj0Qw']\n",
    "Tomo = ['ntRdeTNC1R3lr_GbMDAlU3kHitHMondecSY3x1LLwT0DN9DO9lDhZGYIF3lBRL7_w-IEdoMXWKdWXQ']\n",
    "Isles = ['xmjmKoBAFlTiA0avj_ildGa7DYJuWrdwaAkvCI3SAishszXl611zYP9tEbIDcHWCDRGvKPnx-hIiIw', 'RCVSL-nvMzCyQEuDkSOAL9zz6dfDSk9KMTRIpiIrFD_p3qCspGcq5tOdi9zd2pcwJ84byVHe_UvE_w', 'mNQLOhHD_jLMWpytfefybxB7QxxgBScpizMcIkeojsAlrMoUbhFgEBtiHNBLr6tGS1_WTTNQVKOMjA']\n",
    "Dignitas = Srtty + Sheiden + Keine + Tomo + Isles\n",
    "##FlyQuest\n",
    "Bwipo = ['7DvXEBgJlR4dtB6n5MKEKiNmI7CEOwoKeJ7be4vIFqV9Ev2HDraprE_MK3ZgUxBsO7wYXprAUdLxhg']\n",
    "Inspired = ['i3A_NgfOW_b_QtW1CPrKAuFjJesUU5CWCowUyFKRUj_IWwpODPL6OQDIzAINqdvbb47q3bOzD5P_eQ']\n",
    "Quad = ['0Ecn2AF5W1jEX6VBB8SNNuyQUREluhLMWuj5RuMeE_lwFmR9X3X91KYDwFu_9J21CSivD_69fJ91HQ', 'KqiAyIbZmTv0EjRsjBxgBBasYgoquzgIkcL84QWZHX6fvi8eXm8JERe4mzFvR-1DzBNrfqW38r9mMQ']\n",
    "Massu = ['KPKPwT7XlC0mhgFnxQ4D5q5klbv4qgr4PFnSc7nj1otx0PbPkOwR8_DkpDULdJOrQmlVkprli73qrA']\n",
    "Busio = ['5E5xi95_K22ReZdZOkv4bA1x08PqSnw4fdt4Hxsc7hl-YsepcZAmXXStOdZevzPhoF7gPArMo6pviA', 'l4ZNCgVdcx4TZE8VypxNg3Qewm8FTkoeHZI8NMYckofKV_5sm__zvaURoDGP2IIED7UPPU8e607JYg', 'Mr18mIyZqg-l-ldQ0DfhBIE_Xe87iqnxK9Kx-g1f0bMZgyac6wWNJUZ8ivRTnZOTT1SKyYbRTnR6QA', '3MpP_nL4ivqLW5uZ1voUjjQcJIiBQidQqXko4H-KWvF48RoQFWw-bVh751aQ4EoOmdaa82Eoc7iRcQ']\n",
    "FlyQuest = Bwipo + Inspired + Quad + Massu + Busio\n",
    "##Disguised\n",
    "Castle = ['DpmLH9cz42Wys8rhuAEXwrOObCjtfTstcOyTMNwW1y3AtJ3ePjupioRQ8tTjU0gJlxaZ6NqXZM6F9g']\n",
    "eXyu = ['3C2zxijVRjPu50ZRLk_bbnZiWtJnzqU6umvNeGvG3oFiHvDVaSP-ye0YPxa8QsMwrcr9yiQOeEB-Fw', 'V58uWniux2NoDBzODDXPiP1rR3Axyv2AvVYEulqKLDne47_FxG2C8mSmU5_-T_YTB_Z8V4mP9E9lbw']\n",
    "Abbedagge = ['-Mf3uGOO3MWik1vtBZBX71dO0scd7brGVfOooujESG6f4lfILKLOI4rgHC3fGsDYsdsbybG36jr5tQ', 'CwSi0L4LobY1tb0Js8QrwT-OOrWWbUokMbuQ8S3i9yn14SK3iNIl8Oub8xS2gMcJul-aBQ3br3M8fg']\n",
    "ScaryJerry = ['1VneZMzxOw8IbX1HikvbI4viK9XRUo4Kl3UX8zgJwLND9MvYAC3iuJgzkO96AhPg4AD9sgtgLt6q5Q', 'NXDBG0vj4KKYcflVOBy6DU4EEdfTKUx2M-_YXXvzdvAJbh8ag72HLqmigphRkUtXl03dk0FU_a1rSg', 'nNUBjy0YtM0LvsUWBN9TFcC5h6cxh-LyGCXsavhaJ84SjVscnr7g9e4stL7JtwFRF_0F4WuSSdsMvg']\n",
    "Huhi = ['dZfcVg2iGkx1QUOebfiNZu_e5J7J1VROCxSkruaSh9h9ryimZyuW6RcLU4dS-cGRwicYw_Afo02nPg', 'y2891dLjb4OGl5vuBifndOJ7v0Dm2YNSRaq_6gqkGvrNrGic5KQK2B0Nol6HfvDW6liu1sO2SNXvOQ']\n",
    "Disguised = Castle + eXyu + Abbedagge + ScaryJerry + Huhi\n",
    "##Lyon\n",
    "Licorice = ['nMaSAdfIGXc4TL_GSLYOl5rOpDsIoFTgGbn7H89Fm2PxCgJJdl8DJoW4VWQGrlx5vM-Y2nkFyIwzBA', 'gTFoyABD8DcSK4Z7_nyReMtjfIBr5FFAJ9OKtID7lqhz-vLourqTc84jIMRlAiG3WH3093ZPumKChQ']\n",
    "Oddielan = ['_zhI_qCIRMB97GvWilS3O4rUbRfZe2SH0arss7TCARpZeh5nDwfPSjryoCphmA6SXCVvbFn4_bhEBA', 'fTl6WzrsH2jqijLI1Rn_iUVpzFRTvGo34eWReamvyKHxYDWJDQAJ_3dqp-_iBOHri4DDy0JHgszMLQ', 'wRKGth39swE7jrwF95qEuF8mKawJleTOsutOLJlg1D6cacl5l0l-W1RzQv7V4OIyHQ-bTM7q9m5oOQ']\n",
    "Saint = ['XADIOY8ZcPiaPFA_xVANQofpFALTLLBPwumVHvod4jW5PSl6tszKHP2sYKh2Jhp2E3aLbjPcgItj9g']\n",
    "Hena = ['BONQr_oJnPGKu_olH78LNtTK47eFVIDIOZPly58fngTDsFiFjNa8VfV5mlT3KzPRSrToUGpF1KQxKw']\n",
    "Lyonz = ['GkWddySFihE7l91c-64YpN55zSRdOgeoSAdFGPy19FTsDPB_g6byPWenDUZDzW0locRet93pHuifwQ']\n",
    "Lyon = Licorice + Oddielan + Saint + Hena + Lyonz\n",
    "##Shopify Rebellion\n",
    "Fudge = ['VtkJTxUaF7X3f3wMZreQ85V8gpl8YhB5iDWiTgCc1oGWapnb5bq2akv4ezoe0a-Hw1MT1sYLybQ47g']\n",
    "Contractz = ['QiFi0J1OZAsZjsB1gLRMHs-rWXKdrZ7YkrL4xIpHZsgRTozDKFlfKv3md1_e5fnLdwS4SHn7N04pjg', 'gDolNBivBRLwrXn-Wg4SGMRbuEK4Kl_M9wdFZtxfH-bIKfx1KYS_NMkV3PNP5VXMAhvf8OFDAzCwHg', '22WdB36XdCDeZ0mpWj0VfcL9HAzj8txtWt-rTV-cwA-oYCSw16P1StFWfwZ4lxdZLu3b87lcuivnwg', 'qYLo1CM2YM5-tl_MtZccE4Y4Bg7-_iP6i9AoNsLaSPmlpj4Vgz38tELnTgs0-8Purc-ZHEaqBdHoLg']\n",
    "Palafox = ['6GHOShaf3aVvqT47J3uAEIBcJVHemU9PfVEAoXf87ToNzuuEDWm71qeRpn_1nggNrrMmXKyLbg45Ug']\n",
    "Bvoy = ['FEhZar5aoXkUmFQ8lPFroAQMxgVjs_XikUhHAVBN0NNQBKj6e41Q0xpvTPe-N2kkMzIOr_IXrvvPhg', 'Lrg-WFHIGeRW11DskxG953FVva48xvCb4yUTqjcF17YyHWAx0k5lOMSB-3g9fDtlp0M_JQk_1zxrcQ', 'IIykPY1zQ0I4OaZgmB64Ceyx9KAfibVrmoXoWFTp4aeQ-IaN4cIEajS5bIskcX22WO6mOVorWo9Atg']\n",
    "Ceos = ['prJlpgEOhU4fKgGyjcGEfCOwpDCrf3aUnFWOsjSrpSeZix810J_LpFSbN-bRXbS-XZ_3fmwmi6J_Ug']\n",
    "Shopify_Rebellion = Fudge + Contractz + Palafox + Bvoy + Ceos\n",
    "##Team Liquid\n",
    "Impact = ['_W6HOY_pEwPA8pyIoXTanQBzAzjuBybgVTJibSp1KbSBbqc_oGaJKjxjzw6Z27VgklgpM5LptqDpzg']\n",
    "UmTi = ['-uWaadbQzl-yDoNR6uTHVwqRm2tB5vy6Zm5G3Yn6i6JRB8e-JX0yjbcGNrezJITsXBbniWN5QbL1PQ','hRAU1o9S2_zlTB7EBmWVxvzmdOebAEmTnk5Z5IraH7698HACo1kpq4zmEdpqgMxNT3UQORlj6oG55A']\n",
    "apa = ['M0AlhbqhsK1emgS-c0lbAu5w3Wu_EJd-nuoQXniiDRC7ZhldaKUVBl2Oo4W1kRv9s-8dVKpr4q4q7A', 'Bv25TcYYhPnEFqLu0QffOt90n9ZRR7jfgrlCxObSG-zrT-5vKHrvQi-pCsXzd6tdj7C7c5h8rXGIGw']\n",
    "Yeon = ['YEDV3cOex83UZRTM1uN9tAbD9v11rP2j7cDX60Lz3fUAVNZWUWFGMuWCS4YZmPxe3aLigSoE9yp0dg', 'BNP611IndZkrTYXZ5NyqTm2Nwqtque-ZkcGRsBh-2L33nP7muwTajAYfjfjEDMb6NQIQkMdX_fAfPA']\n",
    "CoreJJ = ['OAXVqvfdm3tCXjFGlt8IxZZevayuM9uk--MconV7lPMmE6_sPZmz5wS7DYJYgFkfY-fNrDC5b3rmgg']\n",
    "Team_Liquid = Impact + UmTi + apa + Yeon + CoreJJ"
   ]
  },
  {
   "cell_type": "code",
   "execution_count": 11,
   "id": "461a15a8",
   "metadata": {},
   "outputs": [],
   "source": [
    "from dotenv import load_dotenv\n",
    "load_dotenv()\n",
    "\n",
    "import os \n",
    "import requests\n",
    "\n",
    "\n",
    "#api_key = os.environ.get('riot_bs')\n",
    "api_key = 'RGAPI-e5632d1e-0bd4-4fd6-a2d3-c167616681c3'\n",
    "\n",
    "def IGN_grab(puuid=None, api_key=None):\n",
    "    \n",
    "    link = f'https://americas.api.riotgames.com/riot/account/v1/accounts/by-puuid/{puuid}?api_key={api_key}'\n",
    "    response = requests.get(link)\n",
    "    gameName = response.json()['gameName']\n",
    "    tagLine = response.json()['tagLine']\n",
    "    return f'{gameName}#{tagLine}'"
   ]
  },
  {
   "cell_type": "code",
   "execution_count": 12,
   "id": "ed64adfd",
   "metadata": {},
   "outputs": [
    {
     "ename": "KeyError",
     "evalue": "'gameName'",
     "output_type": "error",
     "traceback": [
      "\u001b[0;31m---------------------------------------------------------------------------\u001b[0m",
      "\u001b[0;31mKeyError\u001b[0m                                  Traceback (most recent call last)",
      "Cell \u001b[0;32mIn[12], line 2\u001b[0m\n\u001b[1;32m      1\u001b[0m \u001b[38;5;28;01mfor\u001b[39;00m puuid \u001b[38;5;129;01min\u001b[39;00m HundredThieves:\n\u001b[0;32m----> 2\u001b[0m     \u001b[38;5;28mprint\u001b[39m(\u001b[43mIGN_grab\u001b[49m\u001b[43m(\u001b[49m\u001b[43mpuuid\u001b[49m\u001b[38;5;241;43m=\u001b[39;49m\u001b[43mpuuid\u001b[49m\u001b[43m,\u001b[49m\u001b[43m \u001b[49m\u001b[43mapi_key\u001b[49m\u001b[38;5;241;43m=\u001b[39;49m\u001b[43mapi_key\u001b[49m\u001b[43m)\u001b[49m)\n",
      "Cell \u001b[0;32mIn[11], line 15\u001b[0m, in \u001b[0;36mIGN_grab\u001b[0;34m(puuid, api_key)\u001b[0m\n\u001b[1;32m     13\u001b[0m link \u001b[38;5;241m=\u001b[39m \u001b[38;5;124mf\u001b[39m\u001b[38;5;124m'\u001b[39m\u001b[38;5;124mhttps://americas.api.riotgames.com/riot/account/v1/accounts/by-puuid/\u001b[39m\u001b[38;5;132;01m{\u001b[39;00mpuuid\u001b[38;5;132;01m}\u001b[39;00m\u001b[38;5;124m?api_key=\u001b[39m\u001b[38;5;132;01m{\u001b[39;00mapi_key\u001b[38;5;132;01m}\u001b[39;00m\u001b[38;5;124m'\u001b[39m\n\u001b[1;32m     14\u001b[0m response \u001b[38;5;241m=\u001b[39m requests\u001b[38;5;241m.\u001b[39mget(link)\n\u001b[0;32m---> 15\u001b[0m gameName \u001b[38;5;241m=\u001b[39m \u001b[43mresponse\u001b[49m\u001b[38;5;241;43m.\u001b[39;49m\u001b[43mjson\u001b[49m\u001b[43m(\u001b[49m\u001b[43m)\u001b[49m\u001b[43m[\u001b[49m\u001b[38;5;124;43m'\u001b[39;49m\u001b[38;5;124;43mgameName\u001b[39;49m\u001b[38;5;124;43m'\u001b[39;49m\u001b[43m]\u001b[49m\n\u001b[1;32m     16\u001b[0m tagLine \u001b[38;5;241m=\u001b[39m response\u001b[38;5;241m.\u001b[39mjson()[\u001b[38;5;124m'\u001b[39m\u001b[38;5;124mtagLine\u001b[39m\u001b[38;5;124m'\u001b[39m]\n\u001b[1;32m     17\u001b[0m \u001b[38;5;28;01mreturn\u001b[39;00m \u001b[38;5;124mf\u001b[39m\u001b[38;5;124m'\u001b[39m\u001b[38;5;132;01m{\u001b[39;00mgameName\u001b[38;5;132;01m}\u001b[39;00m\u001b[38;5;124m#\u001b[39m\u001b[38;5;132;01m{\u001b[39;00mtagLine\u001b[38;5;132;01m}\u001b[39;00m\u001b[38;5;124m'\u001b[39m\n",
      "\u001b[0;31mKeyError\u001b[0m: 'gameName'"
     ]
    }
   ],
   "source": [
    "for puuid in HundredThieves:\n",
    "    print(IGN_grab(puuid=puuid, api_key=api_key))"
   ]
  }
 ],
 "metadata": {
  "kernelspec": {
   "display_name": "Python 3",
   "language": "python",
   "name": "python3"
  },
  "language_info": {
   "codemirror_mode": {
    "name": "ipython",
    "version": 3
   },
   "file_extension": ".py",
   "mimetype": "text/x-python",
   "name": "python",
   "nbconvert_exporter": "python",
   "pygments_lexer": "ipython3",
   "version": "3.12.4"
  }
 },
 "nbformat": 4,
 "nbformat_minor": 5
}
